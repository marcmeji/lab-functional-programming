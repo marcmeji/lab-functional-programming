{
 "cells": [
  {
   "cell_type": "markdown",
   "metadata": {},
   "source": [
    "In the cell below, create a Python function that wraps your previous solution for the Bag of Words lab.\n",
    "\n",
    "Requirements:\n",
    "\n",
    "1. Your function should accept the following parameters:\n",
    "    * `docs` [REQUIRED] - array of document paths.\n",
    "    * `stop_words` [OPTIONAL] - array of stop words. The default value is an empty array.\n",
    "\n",
    "1. Your function should return a Python object that contains the following:\n",
    "    * `bag_of_words` - array of strings of normalized unique words in the corpus.\n",
    "    * `term_freq` - array of the term-frequency vectors."
   ]
  },
  {
   "cell_type": "code",
   "execution_count": 8,
   "metadata": {},
   "outputs": [
    {
     "name": "stdout",
     "output_type": "stream",
     "text": [
      "{'bag_of_words': ['ironhack', 'is', 'cool', 'i', 'love', 'am', 'a', 'student', 'at'], 'term_freq': [[1, 1, 1, 0, 0, 0, 0, 0, 0], [1, 0, 0, 1, 1, 0, 0, 0, 0], [1, 0, 0, 1, 0, 1, 1, 1, 1]]}\n"
     ]
    }
   ],
   "source": [
    "# Import required libraries\n",
    "import re\n",
    "\n",
    "docs = ['doc1.txt', 'doc2.txt', 'doc3.txt']\n",
    "\n",
    "# Define function\n",
    "\n",
    "def get_bow_from_docs(docs, stop_words=[]):\n",
    "    \n",
    "    # In the function, first define the variables you will use such as `corpus`, `bag_of_words`, and `term_freq`.\n",
    "    \n",
    "    corpus = []\n",
    "    bag_of_words = []\n",
    "    term_freq = []\n",
    "    \n",
    "           \n",
    "    \"\"\"\n",
    "    Loop `docs` and read the content of each doc into a string in `corpus`.\n",
    "    Remember to convert the doc content to lowercases and remove punctuation.\n",
    "    \"\"\"\n",
    "\n",
    "        \n",
    "    for x in docs:\n",
    "        text = open(x, 'r')\n",
    "        corpus.append(text.read())\n",
    "        \n",
    "      \n",
    "    corpus = [x.lower() for x in corpus]\n",
    "    \n",
    "    corpus = [re.sub(r'[^\\w\\s]','',x) for x in corpus]\n",
    "   \n",
    "    \n",
    "    \n",
    "    \"\"\"\n",
    "    Loop `corpus`. Append the terms in each doc into the `bag_of_words` array. The terms in `bag_of_words` \n",
    "    should be unique which means before adding each term you need to check if it's already added to the array.\n",
    "    In addition, check if each term is in the `stop_words` array. Only append the term to `bag_of_words`\n",
    "    if it is not a stop word.\n",
    "    \"\"\"\n",
    "    \n",
    "    for string in corpus:\n",
    "        split = string.split()\n",
    "        for word in split:\n",
    "            if word not in bag_of_words and word not in stop_words:\n",
    "                bag_of_words.append(word)\n",
    "\n",
    "    \n",
    "    \n",
    "\n",
    "    \"\"\" \n",
    "    Loop `corpus` again. For each doc string, count the number of occurrences of each term in `bag_of_words`. \n",
    "    Create an array for each doc's term frequency and append it to `term_freq`.  \n",
    "    \"\"\" \n",
    "    \n",
    "    for doc in corpus:\n",
    "        lst = []\n",
    "    \n",
    "        for word in bag_of_words:\n",
    "            if word in doc.split():\n",
    "                lst.append(1)\n",
    "            else:\n",
    "                lst.append(0)\n",
    "\n",
    "        term_freq.append(lst)\n",
    "\n",
    "    \n",
    "    \n",
    "    # Now return your output as an object\n",
    "    return {\n",
    "        \"bag_of_words\": bag_of_words,\n",
    "        \"term_freq\": term_freq\n",
    "    }\n",
    "\n",
    "print(get_bow_from_docs(docs))\n",
    "    "
   ]
  },
  {
   "cell_type": "markdown",
   "metadata": {},
   "source": [
    "Test your function without stop words. You should see the output like below:\n",
    "\n",
    "```{'bag_of_words': ['ironhack', 'is', 'cool', 'i', 'love', 'am', 'a', 'student', 'at'], 'term_freq': [[1, 1, 1, 0, 0, 0, 0, 0, 0], [1, 0, 0, 1, 1, 0, 0, 0, 0], [1, 0, 0, 1, 0, 1, 1, 1, 1]]}```"
   ]
  },
  {
   "cell_type": "code",
   "execution_count": 9,
   "metadata": {},
   "outputs": [
    {
     "name": "stdout",
     "output_type": "stream",
     "text": [
      "{'bag_of_words': ['ironhack', 'is', 'cool', 'i', 'love', 'am', 'a', 'student', 'at'], 'term_freq': [[1, 1, 1, 0, 0, 0, 0, 0, 0], [1, 0, 0, 1, 1, 0, 0, 0, 0], [1, 0, 0, 1, 0, 1, 1, 1, 1]]}\n"
     ]
    }
   ],
   "source": [
    "# Define doc paths array\n",
    "docs = ['doc1.txt', 'doc2.txt', 'doc3.txt']\n",
    "\n",
    "# Obtain BoW from your function\n",
    "bow = get_bow_from_docs(docs)\n",
    "\n",
    "# Print BoW\n",
    "print(bow)"
   ]
  },
  {
   "cell_type": "markdown",
   "metadata": {},
   "source": [
    "If your attempt above is successful, nice work done!\n",
    "\n",
    "Now test your function again with the stop words. In the previous lab we defined the stop words in a large array. In this lab, we'll import the stop words from Scikit-Learn."
   ]
  },
  {
   "cell_type": "code",
   "execution_count": 10,
   "metadata": {},
   "outputs": [
    {
     "name": "stdout",
     "output_type": "stream",
     "text": [
      "frozenset({'behind', 'however', 'herein', 'system', 'same', 'front', 'do', 'up', 'thru', 'thence', 'couldnt', 'themselves', 'top', 'whither', 'almost', 'since', 'thin', 'through', 'and', 'nobody', 'itself', 'among', 'amongst', 'else', 'thereby', 'most', 'whereafter', 'fire', 'often', 'though', 'has', 'whose', 'few', 'back', 'along', 'beside', 'ltd', 'everyone', 'move', 'is', 'noone', 'as', 'whatever', 'detail', 'may', 'beyond', 'every', 'anyway', 'much', 'whereupon', 'another', 'i', 'many', 'show', 'hence', 'beforehand', 'are', 'fill', 'our', 'thus', 'get', 'until', 'while', 'namely', 'name', 'eleven', 'his', 'mostly', 'whereby', 'alone', 'former', 'each', 'go', 'everywhere', 'although', 'he', 'why', 'eg', 'therefore', 'serious', 'anyone', 'after', 'how', 'for', 'or', 'herself', 'due', 'several', 'again', 'done', 'indeed', 'latter', 'thick', 'nevertheless', 'mill', 'its', 'out', 'above', 'nine', 'hers', 'either', 'somehow', 'take', 'elsewhere', 'was', 'what', 'per', 'throughout', 'ten', 'nowhere', 'ours', 'cannot', 'three', 'empty', 'whenever', 'towards', 'otherwise', 'find', 'together', 'other', 'yourselves', 'over', 'hereupon', 'those', 'both', 'already', 'enough', 'rather', 'perhaps', 'before', 'whoever', 'into', 'might', 'down', 'during', 'there', 'around', 'that', 'below', 'meanwhile', 'without', 'con', 'seeming', 'bottom', 'if', 'full', 'a', 'but', 'ie', 'must', 'being', 'here', 'the', 'thereafter', 'never', 'should', 'cry', 'mine', 'any', 'this', 'somewhere', 'own', 'even', 'seems', 'well', 'been', 'some', 'then', 'hereafter', 'first', 'such', 'amoungst', 'latterly', 'could', 'your', 'myself', 'made', 'than', 'inc', 'anywhere', 'in', 'across', 'sometimes', 'their', 'more', 'ever', 'thereupon', 'us', 'hereby', 'which', 'nor', 'cant', 'at', 'toward', 'had', 'himself', 'none', 'these', 'see', 'four', 'describe', 'always', 'so', 'who', 'we', 'to', 'whole', 'twelve', 'formerly', 'sometime', 'an', 'can', 'moreover', 'against', 'put', 'next', 'twenty', 'yourself', 'via', 'hasnt', 'others', 'when', 'someone', 'because', 'him', 'wherein', 'eight', 'give', 'by', 'on', 'least', 'about', 'once', 'anyhow', 'besides', 'keep', 'also', 'everything', 'have', 'she', 'co', 'only', 'where', 'whom', 'anything', 'become', 'they', 'etc', 'forty', 'of', 'were', 'becoming', 'am', 'third', 'whereas', 'call', 'her', 'now', 'whether', 'becomes', 'except', 'onto', 'part', 'amount', 'side', 'therein', 'will', 'last', 'you', 'neither', 'yours', 're', 'ourselves', 'whence', 'between', 'de', 'un', 'them', 'be', 'one', 'less', 'two', 'would', 'became', 'upon', 'five', 'off', 'hundred', 'sincere', 'wherever', 'within', 'please', 'nothing', 'with', 'interest', 'fifty', 'seemed', 'still', 'afterwards', 'found', 'me', 'very', 'from', 'not', 'seem', 'all', 'fifteen', 'my', 'further', 'something', 'it', 'under', 'bill', 'yet', 'too', 'no', 'sixty', 'six'})\n"
     ]
    }
   ],
   "source": [
    "from sklearn.feature_extraction import stop_words\n",
    "print(stop_words.ENGLISH_STOP_WORDS)"
   ]
  },
  {
   "cell_type": "markdown",
   "metadata": {},
   "source": [
    "You should have seen a large list of words that looks like:\n",
    "\n",
    "```frozenset({'across', 'mine', 'cannot', ...})```\n",
    "\n",
    "`frozenset` is a type of Python object that is immutable. In this lab you can use it just like an array without conversion."
   ]
  },
  {
   "cell_type": "markdown",
   "metadata": {},
   "source": [
    "Next, test your function with supplying `stop_words.ENGLISH_STOP_WORDS` as the second parameter."
   ]
  },
  {
   "cell_type": "code",
   "execution_count": 14,
   "metadata": {},
   "outputs": [
    {
     "name": "stdout",
     "output_type": "stream",
     "text": [
      "{'bag_of_words': ['ironhack', 'cool', 'love', 'student'], 'term_freq': [[1, 1, 0, 0], [1, 0, 1, 0], [1, 0, 0, 1]]}\n"
     ]
    }
   ],
   "source": [
    "bow = get_bow_from_docs(docs, stop_words.ENGLISH_STOP_WORDS)\n",
    "\n",
    "print(bow)"
   ]
  },
  {
   "cell_type": "markdown",
   "metadata": {},
   "source": [
    "You should have seen:\n",
    "\n",
    "```{'bag_of_words': ['ironhack', 'cool', 'love', 'student'], 'term_freq': [[1, 1, 0, 0], [1, 0, 1, 0], [1, 0, 0, 1]]}```"
   ]
  },
  {
   "cell_type": "code",
   "execution_count": null,
   "metadata": {},
   "outputs": [],
   "source": []
  }
 ],
 "metadata": {
  "kernelspec": {
   "display_name": "Python 3",
   "language": "python",
   "name": "python3"
  },
  "language_info": {
   "codemirror_mode": {
    "name": "ipython",
    "version": 3
   },
   "file_extension": ".py",
   "mimetype": "text/x-python",
   "name": "python",
   "nbconvert_exporter": "python",
   "pygments_lexer": "ipython3",
   "version": "3.7.1"
  }
 },
 "nbformat": 4,
 "nbformat_minor": 2
}
